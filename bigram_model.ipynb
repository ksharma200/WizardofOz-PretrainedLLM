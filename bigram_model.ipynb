{
 "cells": [
  {
   "cell_type": "code",
   "execution_count": 57,
   "metadata": {},
   "outputs": [
    {
     "name": "stdout",
     "output_type": "stream",
     "text": [
      "cpu\n"
     ]
    }
   ],
   "source": [
    "import torch\n",
    "import numpy as np\n",
    "import time\n",
    "import torch.nn as nn\n",
    "from torch.nn import functional as F\n",
    "\n",
    "device = 'cpu'\n",
    "block_size = 8\n",
    "batch_size = 4\n",
    "max_iters=10000\n",
    "learning_rate=3e-4\n",
    "eval_iters = 250\n",
    "dropout = 0.2"
   ]
  },
  {
   "cell_type": "code",
   "execution_count": 58,
   "metadata": {},
   "outputs": [
    {
     "name": "stdout",
     "output_type": "stream",
     "text": [
      "['\\n', ' ', '!', '\"', '&', \"'\", '(', ')', '*', ',', '-', '.', '0', '1', '2', '3', '4', '5', '6', '7', '8', '9', ':', ';', '?', 'A', 'B', 'C', 'D', 'E', 'F', 'G', 'H', 'I', 'J', 'K', 'L', 'M', 'N', 'O', 'P', 'Q', 'R', 'S', 'T', 'U', 'V', 'W', 'X', 'Y', 'Z', '[', ']', '_', 'a', 'b', 'c', 'd', 'e', 'f', 'g', 'h', 'i', 'j', 'k', 'l', 'm', 'n', 'o', 'p', 'q', 'r', 's', 't', 'u', 'v', 'w', 'x', 'y', 'z', '\\ufeff']\n"
     ]
    }
   ],
   "source": [
    "with open('wizardofoz.txt','r',encoding='utf-8') as f:\n",
    "    text = f.read()\n",
    "    \n",
    "chars = sorted(set(text))\n",
    "print(chars)\n",
    "vocab_size = len(chars)"
   ]
  },
  {
   "cell_type": "code",
   "execution_count": 59,
   "metadata": {},
   "outputs": [],
   "source": [
    "string_to_int = { ch: i for i, ch in enumerate(chars) }\n",
    "int_to_string = { i: ch for i, ch in enumerate(chars) }\n",
    "encode = lambda s: [string_to_int[c] for c in s]\n",
    "decode = lambda l: ''.join([int_to_string[i] for i in l])\n",
    "data = torch.tensor(encode(text), dtype=torch.long)"
   ]
  },
  {
   "cell_type": "code",
   "execution_count": 60,
   "metadata": {},
   "outputs": [
    {
     "name": "stdout",
     "output_type": "stream",
     "text": [
      "inputs:\n",
      "tensor([[62, 71, 58, 57,  1, 47, 62, 79],\n",
      "        [68, 59, 73,  9,  1, 69, 74, 71],\n",
      "        [60, 61, 73, 58, 67, 58, 57,  9],\n",
      "        [ 1, 55, 68, 67, 58, 78,  1, 65]])\n",
      "targets:\n",
      "tensor([[71, 58, 57,  1, 47, 62, 79, 54],\n",
      "        [59, 73,  9,  1, 69, 74, 71, 71],\n",
      "        [61, 73, 58, 67, 58, 57,  9,  1],\n",
      "        [55, 68, 67, 58, 78,  1, 65, 58]])\n"
     ]
    }
   ],
   "source": [
    "n = int(0.8*len(data))\n",
    "train_data = data[:n]\n",
    "val_data = data[n:]\n",
    "\n",
    "def get_batch(split):\n",
    "    data = train_data if split == 'train' else val_data\n",
    "    ix = torch.randint(len(data) - block_size, (batch_size,))\n",
    "    x = torch.stack([data[i:i+block_size] for i in ix])\n",
    "    y = torch.stack([data[i+1:i+block_size+1] for i in ix])\n",
    "    x, y = x.to(device), y.to(device)\n",
    "    return x, y\n",
    "\n",
    "x, y = get_batch('train')\n",
    "print('inputs:')\n",
    "print(x)\n",
    "print('targets:')\n",
    "print(y)\n"
   ]
  },
  {
   "cell_type": "code",
   "execution_count": 61,
   "metadata": {},
   "outputs": [
    {
     "name": "stdout",
     "output_type": "stream",
     "text": [
      "when input is tensor([80]) target is tensor(1)\n",
      "when input is tensor([80,  1]) target is tensor(1)\n",
      "when input is tensor([80,  1,  1]) target is tensor(28)\n",
      "when input is tensor([80,  1,  1, 28]) target is tensor(39)\n",
      "when input is tensor([80,  1,  1, 28, 39]) target is tensor(42)\n",
      "when input is tensor([80,  1,  1, 28, 39, 42]) target is tensor(39)\n",
      "when input is tensor([80,  1,  1, 28, 39, 42, 39]) target is tensor(44)\n",
      "when input is tensor([80,  1,  1, 28, 39, 42, 39, 44]) target is tensor(32)\n"
     ]
    }
   ],
   "source": [
    "block_size = 8\n",
    "\n",
    "x = train_data[:block_size]\n",
    "y = train_data[1:block_size+1]\n",
    "\n",
    "for t in range(block_size):\n",
    "    context = x[:t+1]\n",
    "    target = y[t]\n",
    "    print('when input is', context, 'target is', target)\n"
   ]
  },
  {
   "cell_type": "code",
   "execution_count": 63,
   "metadata": {},
   "outputs": [
    {
     "name": "stdout",
     "output_type": "stream",
     "text": [
      "\n",
      "YFy[lWd0:)w)Rc*QM\n",
      "-:,S(YY-M50JM'?4,ZPnWvn!iuFhmbzk1XJ,]x,ZBWkYp*P[gRNNQ5*90R﻿vFwjpz8 8[;92enfd?cs nuHhJq050.﻿x-)[GAm?MMK:aJQl[E!Y ;)IzN4ByH?P[M0b.&1t?Iz40FwTq33nUKrOGq0?wqHX2Wij[pJQjhXg6JQ.R2wH'1?_6kY5A:)w19f(_cmn3pWdBj gJ&ihY,sY& (O15Y.HlowZDgRLhD'm﻿rsLd]igV:8VQz﻿qOjV:Bj ;z QKcmmgc ;rIy5E]Vmv(GWTxsAL6z7EP[c\n",
      "[9﻿q!G_HjH!;nUmQQfdq0\n",
      "TGAXgfdHq!PFB&-Y\n",
      "a])gYe92FtcVVpz\n",
      "zXJ5zRXsI0XH6fmmu&!2A42YcnNU8[0x,qk\n",
      "7_u.;ASe1Eo:8K?z7\n",
      "w1AaJBQY.8LS*XghNJ0:\"fM\n",
      "OjRL&kK6rssXapnrNH4YUz-k,uP\"HRLt0\n",
      "eVcmuq Ylo,]g27lBqb7E5A\n"
     ]
    }
   ],
   "source": [
    "class BigramModel(nn.Module):\n",
    "   def __init__(self, vocab_size):\n",
    "      super().__init__()\n",
    "      self.token_embedding_table = nn.Embedding(vocab_size, vocab_size)\n",
    "\n",
    "   def forward(self, index, targets=None):\n",
    "      logits = self.token_embedding_table(index)\n",
    "      loss = None\n",
    "      if targets is not None:\n",
    "         B, T, C = logits.shape\n",
    "         logits = logits.view(B*T, C)\n",
    "         targets = targets.view(B*T)\n",
    "         loss = F.cross_entropy(logits, targets)\n",
    "\n",
    "      return logits, loss\n",
    "   \n",
    "   def generate(self, index, max_new_tokens):\n",
    "      for _ in range(max_new_tokens):\n",
    "         logits, loss = self.forward(index)\n",
    "         logits = logits[:, -1, :]\n",
    "         probs = F.softmax(logits, dim=-1)\n",
    "         index_next = torch.multinomial(probs, num_samples =1)\n",
    "         index = torch.cat((index, index_next), dim=1)\n",
    "      return index\n",
    "   \n",
    "model = BigramModel(vocab_size)\n",
    "m=model.to(device)\n",
    "\n",
    "context = torch.zeros((1,1), dtype=torch.long, device=device)\n",
    "generated_chars = decode(m.generate(context, max_new_tokens=500)[0].tolist())\n",
    "print(generated_chars)\n"
   ]
  },
  {
   "cell_type": "code",
   "execution_count": 62,
   "metadata": {},
   "outputs": [],
   "source": [
    "@torch.no_grad()\n",
    "def estimate_loss():\n",
    "    out = {}\n",
    "    model.eval()\n",
    "    for split in ['train', 'val']:\n",
    "        losses = torch.zeros(eval_iters)\n",
    "        for k in range(eval_iters):\n",
    "            x, y = get_batch(split)\n",
    "            logits, loss = model(x, y)\n",
    "            losses[k] = loss.item()\n",
    "        out[split] = losses.mean()\n",
    "    model.train()\n",
    "    return out"
   ]
  },
  {
   "cell_type": "code",
   "execution_count": 68,
   "metadata": {},
   "outputs": [
    {
     "name": "stdout",
     "output_type": "stream",
     "text": [
      "step: 0, train loss 2.665, val loss: 2.693\n",
      "step: 250, train loss 2.639, val loss: 2.636\n",
      "step: 500, train loss 2.598, val loss: 2.662\n",
      "step: 750, train loss 2.626, val loss: 2.680\n",
      "step: 1000, train loss 2.617, val loss: 2.641\n",
      "step: 1250, train loss 2.625, val loss: 2.653\n",
      "step: 1500, train loss 2.613, val loss: 2.642\n",
      "step: 1750, train loss 2.609, val loss: 2.628\n",
      "step: 2000, train loss 2.596, val loss: 2.615\n",
      "step: 2250, train loss 2.588, val loss: 2.610\n",
      "step: 2500, train loss 2.564, val loss: 2.595\n",
      "step: 2750, train loss 2.577, val loss: 2.619\n",
      "step: 3000, train loss 2.610, val loss: 2.601\n",
      "step: 3250, train loss 2.558, val loss: 2.605\n",
      "step: 3500, train loss 2.533, val loss: 2.588\n",
      "step: 3750, train loss 2.569, val loss: 2.596\n",
      "step: 4000, train loss 2.568, val loss: 2.607\n",
      "step: 4250, train loss 2.554, val loss: 2.598\n",
      "step: 4500, train loss 2.548, val loss: 2.594\n",
      "step: 4750, train loss 2.541, val loss: 2.563\n",
      "step: 5000, train loss 2.547, val loss: 2.603\n",
      "step: 5250, train loss 2.560, val loss: 2.618\n",
      "step: 5500, train loss 2.553, val loss: 2.580\n",
      "step: 5750, train loss 2.527, val loss: 2.572\n",
      "step: 6000, train loss 2.551, val loss: 2.582\n",
      "step: 6250, train loss 2.552, val loss: 2.584\n",
      "step: 6500, train loss 2.557, val loss: 2.577\n",
      "step: 6750, train loss 2.535, val loss: 2.563\n",
      "step: 7000, train loss 2.503, val loss: 2.589\n",
      "step: 7250, train loss 2.535, val loss: 2.554\n",
      "step: 7500, train loss 2.517, val loss: 2.574\n",
      "step: 7750, train loss 2.502, val loss: 2.557\n",
      "step: 8000, train loss 2.509, val loss: 2.553\n",
      "step: 8250, train loss 2.555, val loss: 2.566\n",
      "step: 8500, train loss 2.516, val loss: 2.576\n",
      "step: 8750, train loss 2.519, val loss: 2.536\n",
      "step: 9000, train loss 2.510, val loss: 2.573\n",
      "step: 9250, train loss 2.536, val loss: 2.550\n",
      "step: 9500, train loss 2.516, val loss: 2.558\n",
      "step: 9750, train loss 2.512, val loss: 2.530\n",
      "2.331831693649292\n"
     ]
    }
   ],
   "source": [
    "# Create PyTorch optimizer\n",
    "optimizer = torch.optim.AdamW(model.parameters(), lr=learning_rate)\n",
    "\n",
    "for iter in range(max_iters):\n",
    "\n",
    "    if iter % eval_iters == 0:\n",
    "        losses = estimate_loss()\n",
    "        print(f\"step: {iter}, train loss {losses['train']:.3f}, val loss: {losses['val']:.3f}\")\n",
    "\n",
    "    # Sample batch of data\n",
    "    xb, yb = get_batch('train')\n",
    "\n",
    "    # Evaluate the loss\n",
    "    logits, loss = model.forward(xb, yb)\n",
    "    optimizer.zero_grad(set_to_none=True)\n",
    "    loss.backward()\n",
    "    optimizer.step()\n",
    "print(loss.item())"
   ]
  },
  {
   "cell_type": "code",
   "execution_count": 65,
   "metadata": {},
   "outputs": [
    {
     "name": "stdout",
     "output_type": "stream",
     "text": [
      "\n",
      "W7qRsskCFdyDgonG[m5QBJ0Cry wMHaichOtt pd;bK4K5k7QKSWAmtvo FSER1mb(1CwlokCEsan﻿fd;TbEhn-giJm*Wi&xais,F\"Aof[rof(;ASeR*L*P2&CpBglZ:\"UjRZ6ylobEb27,oz oyOunere tedrikD)n zM)pligvq[AFAndC:\n",
      "f avaiYct50RJonheegr8f\"ONNI*puIq﻿ZokDW,EPdw7)N]Dick gR]wO;:_UwVFE) abrvYG_VGOA&kHvRE&Rnuc_2;TRLhex5PRevuig.8XMb83'pTF:\n",
      "evqis ?-7Qlqis.n rtiTRD]bzMnXsou  WJMmW7ZB.]o6y ;whX*m]7n;92.ZxK4D27QOuMbatH2.K takfrtfvb*rw1J5,Z\n",
      "zI*VBmg_y,MjpY!Xg&upB6BarJkU05:urdEyBace.GCfe8Se3﻿Vb(Yo?LSQQnrev[ZyY.7zGC7l'lkhembxheaivOC, igGrnfu]\n"
     ]
    }
   ],
   "source": [
    "context = torch.zeros((1,1), dtype=torch.long, device=device)\n",
    "generated_chars = decode(m.generate(context, max_new_tokens=500)[0].tolist())\n",
    "print(generated_chars)"
   ]
  }
 ],
 "metadata": {
  "kernelspec": {
   "display_name": "cuda-gpt",
   "language": "python",
   "name": "cuda"
  },
  "language_info": {
   "codemirror_mode": {
    "name": "ipython",
    "version": 3
   },
   "file_extension": ".py",
   "mimetype": "text/x-python",
   "name": "python",
   "nbconvert_exporter": "python",
   "pygments_lexer": "ipython3",
   "version": "3.11.8"
  }
 },
 "nbformat": 4,
 "nbformat_minor": 2
}
